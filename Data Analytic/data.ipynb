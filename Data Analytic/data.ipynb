{
 "cells": [
  {
   "cell_type": "code",
   "execution_count": 123,
   "metadata": {},
   "outputs": [
    {
     "data": {
      "text/plain": [
       "0     James\n",
       "1      John\n",
       "2    Robert\n",
       "Name: Names, dtype: object"
      ]
     },
     "execution_count": 123,
     "metadata": {},
     "output_type": "execute_result"
    }
   ],
   "source": [
    "import pandas as pd\n",
    "import os\n",
    "\n",
    "FILES_PATH = '/Users/antongrutsin/Desktop/Python/advanced_python/Data Analytic/names'\n",
    "\n",
    "def count_top3(list):\n",
    "    dataframe_list = {}\n",
    "    for item in list:\n",
    "        dataframe_list[item] = pd.read_csv(f'{FILES_PATH}/yob{item}.txt', names = ['Names', 'Gender', 'Count'])\n",
    "    name_all = pd.concat(dataframe_list)\n",
    "    name_all = name_all.groupby(['Names']).sum()\n",
    "    sorted_name = name_all['Count'].sort_values(ascending=False).reset_index().head(3)\n",
    "    names = sorted_name['Names']\n",
    "    return names\n",
    "    \n",
    "    \n",
    "count_top3([1900, 1950, 2000])\n",
    "         "
   ]
  },
  {
   "cell_type": "code",
   "execution_count": 124,
   "metadata": {},
   "outputs": [
    {
     "data": {
      "text/html": [
       "<div>\n",
       "<style scoped>\n",
       "    .dataframe tbody tr th:only-of-type {\n",
       "        vertical-align: middle;\n",
       "    }\n",
       "\n",
       "    .dataframe tbody tr th {\n",
       "        vertical-align: top;\n",
       "    }\n",
       "\n",
       "    .dataframe thead th {\n",
       "        text-align: right;\n",
       "    }\n",
       "</style>\n",
       "<table border=\"1\" class=\"dataframe\">\n",
       "  <thead>\n",
       "    <tr style=\"text-align: right;\">\n",
       "      <th></th>\n",
       "      <th></th>\n",
       "      <th>Count</th>\n",
       "    </tr>\n",
       "    <tr>\n",
       "      <th></th>\n",
       "      <th>Gender</th>\n",
       "      <th></th>\n",
       "    </tr>\n",
       "  </thead>\n",
       "  <tbody>\n",
       "    <tr>\n",
       "      <td rowspan=\"2\" valign=\"top\">1900</td>\n",
       "      <td>F</td>\n",
       "      <td>299798</td>\n",
       "    </tr>\n",
       "    <tr>\n",
       "      <td>M</td>\n",
       "      <td>150480</td>\n",
       "    </tr>\n",
       "    <tr>\n",
       "      <td rowspan=\"2\" valign=\"top\">1950</td>\n",
       "      <td>F</td>\n",
       "      <td>1713065</td>\n",
       "    </tr>\n",
       "    <tr>\n",
       "      <td>M</td>\n",
       "      <td>1790437</td>\n",
       "    </tr>\n",
       "    <tr>\n",
       "      <td rowspan=\"2\" valign=\"top\">2000</td>\n",
       "      <td>F</td>\n",
       "      <td>1815295</td>\n",
       "    </tr>\n",
       "    <tr>\n",
       "      <td>M</td>\n",
       "      <td>1963202</td>\n",
       "    </tr>\n",
       "  </tbody>\n",
       "</table>\n",
       "</div>"
      ],
      "text/plain": [
       "               Count\n",
       "     Gender         \n",
       "1900 F        299798\n",
       "     M        150480\n",
       "1950 F       1713065\n",
       "     M       1790437\n",
       "2000 F       1815295\n",
       "     M       1963202"
      ]
     },
     "execution_count": 124,
     "metadata": {},
     "output_type": "execute_result"
    }
   ],
   "source": [
    "def count_dinamics(list):\n",
    "    dataframe_list = {}\n",
    "    for item in list:\n",
    "        dataframe_list[item] = pd.read_csv(f'{FILES_PATH}/yob{item}.txt', names = ['Names', 'Gender', 'Count'])\n",
    "    name_all = pd.concat(dataframe_list).reset_index(level=1, drop=True)\n",
    "    gender_dynamic = name_all.groupby([name_all.index, 'Gender']).sum()\n",
    "    return gender_dynamic\n",
    "\n",
    "count_dinamics([1900, 1950, 2000])"
   ]
  },
  {
   "cell_type": "code",
   "execution_count": null,
   "metadata": {},
   "outputs": [],
   "source": []
  }
 ],
 "metadata": {
  "kernelspec": {
   "display_name": "Python 3",
   "language": "python",
   "name": "python3"
  },
  "language_info": {
   "codemirror_mode": {
    "name": "ipython",
    "version": 3
   },
   "file_extension": ".py",
   "mimetype": "text/x-python",
   "name": "python",
   "nbconvert_exporter": "python",
   "pygments_lexer": "ipython3",
   "version": "3.7.4"
  }
 },
 "nbformat": 4,
 "nbformat_minor": 2
}
